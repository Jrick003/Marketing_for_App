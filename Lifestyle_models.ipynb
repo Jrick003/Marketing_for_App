{
 "cells": [
  {
   "cell_type": "markdown",
   "metadata": {},
   "source": [
    " ## <span style = 'color: DodgerBlue'> Relationship between Lifestyle Habits and Meditation"
   ]
  },
  {
   "cell_type": "markdown",
   "metadata": {},
   "source": [
    "<u> Problem Description </u> Using a survey of different lifestyle habits to predict frequency of meditation "
   ]
  },
  {
   "cell_type": "code",
   "execution_count": 14,
   "metadata": {},
   "outputs": [],
   "source": [
    "import pandas as pd\n",
    "import numpy as np\n",
    "import matplotlib.pyplot as plt\n"
   ]
  },
  {
   "cell_type": "code",
   "execution_count": 15,
   "metadata": {},
   "outputs": [
    {
     "data": {
      "text/html": [
       "<div>\n",
       "<style scoped>\n",
       "    .dataframe tbody tr th:only-of-type {\n",
       "        vertical-align: middle;\n",
       "    }\n",
       "\n",
       "    .dataframe tbody tr th {\n",
       "        vertical-align: top;\n",
       "    }\n",
       "\n",
       "    .dataframe thead th {\n",
       "        text-align: right;\n",
       "    }\n",
       "</style>\n",
       "<table border=\"1\" class=\"dataframe\">\n",
       "  <thead>\n",
       "    <tr style=\"text-align: right;\">\n",
       "      <th></th>\n",
       "      <th>Unnamed: 0</th>\n",
       "      <th>TimeStamp</th>\n",
       "      <th>Meditation_Week</th>\n",
       "      <th>Donation_Category</th>\n",
       "      <th>Sleep_Hours</th>\n",
       "      <th>Sufficient_Income</th>\n",
       "      <th>BMI_Satisfaction</th>\n",
       "      <th>Excercise_Week</th>\n",
       "      <th>Close_Friends</th>\n",
       "      <th>Vegetable_Week</th>\n",
       "      <th>Fruits_Week</th>\n",
       "      <th>Passions_enjoyed</th>\n",
       "      <th>Vacation_taken</th>\n",
       "    </tr>\n",
       "  </thead>\n",
       "  <tbody>\n",
       "    <tr>\n",
       "      <th>0</th>\n",
       "      <td>0</td>\n",
       "      <td>5/15/2019</td>\n",
       "      <td>5</td>\n",
       "      <td>&lt; $200</td>\n",
       "      <td>11</td>\n",
       "      <td>4</td>\n",
       "      <td>Unsatisfied</td>\n",
       "      <td>3</td>\n",
       "      <td>7</td>\n",
       "      <td>14</td>\n",
       "      <td>12</td>\n",
       "      <td>9</td>\n",
       "      <td>7</td>\n",
       "    </tr>\n",
       "    <tr>\n",
       "      <th>1</th>\n",
       "      <td>1</td>\n",
       "      <td>5/15/2019</td>\n",
       "      <td>4</td>\n",
       "      <td>&lt; $200</td>\n",
       "      <td>6</td>\n",
       "      <td>5</td>\n",
       "      <td>Unsatisfied</td>\n",
       "      <td>7</td>\n",
       "      <td>6</td>\n",
       "      <td>12</td>\n",
       "      <td>11</td>\n",
       "      <td>5</td>\n",
       "      <td>7</td>\n",
       "    </tr>\n",
       "    <tr>\n",
       "      <th>2</th>\n",
       "      <td>2</td>\n",
       "      <td>5/15/2019</td>\n",
       "      <td>4</td>\n",
       "      <td>$201-$999</td>\n",
       "      <td>10</td>\n",
       "      <td>3</td>\n",
       "      <td>Satisfied</td>\n",
       "      <td>4</td>\n",
       "      <td>6</td>\n",
       "      <td>5</td>\n",
       "      <td>7</td>\n",
       "      <td>10</td>\n",
       "      <td>6</td>\n",
       "    </tr>\n",
       "    <tr>\n",
       "      <th>3</th>\n",
       "      <td>3</td>\n",
       "      <td>5/15/2019</td>\n",
       "      <td>7</td>\n",
       "      <td>&gt; $1000</td>\n",
       "      <td>12</td>\n",
       "      <td>4</td>\n",
       "      <td>Neutral</td>\n",
       "      <td>9</td>\n",
       "      <td>11</td>\n",
       "      <td>9</td>\n",
       "      <td>13</td>\n",
       "      <td>12</td>\n",
       "      <td>8</td>\n",
       "    </tr>\n",
       "    <tr>\n",
       "      <th>4</th>\n",
       "      <td>4</td>\n",
       "      <td>5/15/2019</td>\n",
       "      <td>6</td>\n",
       "      <td>$201-$999</td>\n",
       "      <td>11</td>\n",
       "      <td>4</td>\n",
       "      <td>Unsatisfied</td>\n",
       "      <td>6</td>\n",
       "      <td>10</td>\n",
       "      <td>10</td>\n",
       "      <td>14</td>\n",
       "      <td>10</td>\n",
       "      <td>9</td>\n",
       "    </tr>\n",
       "  </tbody>\n",
       "</table>\n",
       "</div>"
      ],
      "text/plain": [
       "   Unnamed: 0  TimeStamp  Meditation_Week Donation_Category  Sleep_Hours  \\\n",
       "0           0  5/15/2019                5            < $200           11   \n",
       "1           1  5/15/2019                4            < $200            6   \n",
       "2           2  5/15/2019                4         $201-$999           10   \n",
       "3           3  5/15/2019                7           > $1000           12   \n",
       "4           4  5/15/2019                6         $201-$999           11   \n",
       "\n",
       "   Sufficient_Income BMI_Satisfaction  Excercise_Week  Close_Friends  \\\n",
       "0                  4      Unsatisfied               3              7   \n",
       "1                  5      Unsatisfied               7              6   \n",
       "2                  3        Satisfied               4              6   \n",
       "3                  4          Neutral               9             11   \n",
       "4                  4      Unsatisfied               6             10   \n",
       "\n",
       "   Vegetable_Week  Fruits_Week  Passions_enjoyed  Vacation_taken  \n",
       "0              14           12                 9               7  \n",
       "1              12           11                 5               7  \n",
       "2               5            7                10               6  \n",
       "3               9           13                12               8  \n",
       "4              10           14                10               9  "
      ]
     },
     "execution_count": 15,
     "metadata": {},
     "output_type": "execute_result"
    }
   ],
   "source": [
    "data = pd.read_csv(\"Lifestyle_data.csv\")\n",
    "data.head()"
   ]
  },
  {
   "cell_type": "markdown",
   "metadata": {},
   "source": [
    " ## <span style = 'color: DodgerBlue'> Exploration\n",
    "\n"
   ]
  },
  {
   "cell_type": "code",
   "execution_count": 16,
   "metadata": {},
   "outputs": [
    {
     "data": {
      "text/plain": [
       "Index(['Meditation_Week', 'Donation_Category', 'Sleep_Hours',\n",
       "       'Sufficient_Income', 'BMI_Satisfaction', 'Excercise_Week',\n",
       "       'Close_Friends', 'Vegetable_Week', 'Fruits_Week', 'Passions_enjoyed',\n",
       "       'Vacation_taken'],\n",
       "      dtype='object')"
      ]
     },
     "execution_count": 16,
     "metadata": {},
     "output_type": "execute_result"
    }
   ],
   "source": [
    "data = data.drop(['TimeStamp', 'Unnamed: 0'], axis = 1)\n",
    "data.columns"
   ]
  },
  {
   "cell_type": "code",
   "execution_count": 17,
   "metadata": {},
   "outputs": [
    {
     "data": {
      "text/plain": [
       "(Meditation_Week      0\n",
       " Donation_Category    0\n",
       " Sleep_Hours          0\n",
       " Sufficient_Income    0\n",
       " BMI_Satisfaction     0\n",
       " Excercise_Week       0\n",
       " Close_Friends        0\n",
       " Vegetable_Week       0\n",
       " Fruits_Week          0\n",
       " Passions_enjoyed     0\n",
       " Vacation_taken       0\n",
       " dtype: int64,\n",
       " Meditation_Week       int64\n",
       " Donation_Category    object\n",
       " Sleep_Hours           int64\n",
       " Sufficient_Income     int64\n",
       " BMI_Satisfaction     object\n",
       " Excercise_Week        int64\n",
       " Close_Friends         int64\n",
       " Vegetable_Week        int64\n",
       " Fruits_Week           int64\n",
       " Passions_enjoyed      int64\n",
       " Vacation_taken        int64\n",
       " dtype: object)"
      ]
     },
     "execution_count": 17,
     "metadata": {},
     "output_type": "execute_result"
    }
   ],
   "source": [
    "data.isnull().sum(),  data.dtypes"
   ]
  },
  {
   "cell_type": "code",
   "execution_count": 18,
   "metadata": {},
   "outputs": [
    {
     "data": {
      "image/png": "[encoded data removed]",
      "text/plain": [
       "<Figure size 1440x1080 with 9 Axes>"
      ]
     },
     "metadata": {
      "needs_background": "light"
     },
     "output_type": "display_data"
    }
   ],
   "source": [
    "data.hist(bins=10, figsize=(20,15))\n",
    "plt.show() \n",
    "\n",
    "#the distribution of the 'Meditation_Week' indicates a likely outlier"
   ]
  },
  {
   "cell_type": "code",
   "execution_count": 19,
   "metadata": {},
   "outputs": [
    {
     "data": {
      "text/html": [
       "<div>\n",
       "<style scoped>\n",
       "    .dataframe tbody tr th:only-of-type {\n",
       "        vertical-align: middle;\n",
       "    }\n",
       "\n",
       "    .dataframe tbody tr th {\n",
       "        vertical-align: top;\n",
       "    }\n",
       "\n",
       "    .dataframe thead th {\n",
       "        text-align: right;\n",
       "    }\n",
       "</style>\n",
       "<table border=\"1\" class=\"dataframe\">\n",
       "  <thead>\n",
       "    <tr style=\"text-align: right;\">\n",
       "      <th></th>\n",
       "      <th>Meditation_Week</th>\n",
       "      <th>Sleep_Hours</th>\n",
       "      <th>Sufficient_Income</th>\n",
       "      <th>Excercise_Week</th>\n",
       "      <th>Close_Friends</th>\n",
       "      <th>Vegetable_Week</th>\n",
       "      <th>Fruits_Week</th>\n",
       "      <th>Passions_enjoyed</th>\n",
       "      <th>Vacation_taken</th>\n",
       "    </tr>\n",
       "  </thead>\n",
       "  <tbody>\n",
       "    <tr>\n",
       "      <th>count</th>\n",
       "      <td>1000.000000</td>\n",
       "      <td>1000.000000</td>\n",
       "      <td>1000.000000</td>\n",
       "      <td>1000.000000</td>\n",
       "      <td>1000.000000</td>\n",
       "      <td>1000.000000</td>\n",
       "      <td>1000.000000</td>\n",
       "      <td>1000.000000</td>\n",
       "      <td>1000.000000</td>\n",
       "    </tr>\n",
       "    <tr>\n",
       "      <th>mean</th>\n",
       "      <td>4.936000</td>\n",
       "      <td>9.332000</td>\n",
       "      <td>3.685000</td>\n",
       "      <td>5.277000</td>\n",
       "      <td>6.389000</td>\n",
       "      <td>8.578000</td>\n",
       "      <td>8.146000</td>\n",
       "      <td>7.070000</td>\n",
       "      <td>5.380000</td>\n",
       "    </tr>\n",
       "    <tr>\n",
       "      <th>std</th>\n",
       "      <td>31.561908</td>\n",
       "      <td>2.288889</td>\n",
       "      <td>1.312058</td>\n",
       "      <td>2.090608</td>\n",
       "      <td>2.416924</td>\n",
       "      <td>3.498307</td>\n",
       "      <td>3.354391</td>\n",
       "      <td>2.646149</td>\n",
       "      <td>2.190525</td>\n",
       "    </tr>\n",
       "    <tr>\n",
       "      <th>min</th>\n",
       "      <td>1.000000</td>\n",
       "      <td>5.000000</td>\n",
       "      <td>1.000000</td>\n",
       "      <td>1.000000</td>\n",
       "      <td>1.000000</td>\n",
       "      <td>1.000000</td>\n",
       "      <td>1.000000</td>\n",
       "      <td>1.000000</td>\n",
       "      <td>1.000000</td>\n",
       "    </tr>\n",
       "    <tr>\n",
       "      <th>25%</th>\n",
       "      <td>2.000000</td>\n",
       "      <td>8.000000</td>\n",
       "      <td>3.000000</td>\n",
       "      <td>4.000000</td>\n",
       "      <td>5.000000</td>\n",
       "      <td>6.000000</td>\n",
       "      <td>6.000000</td>\n",
       "      <td>5.000000</td>\n",
       "      <td>4.000000</td>\n",
       "    </tr>\n",
       "    <tr>\n",
       "      <th>50%</th>\n",
       "      <td>4.000000</td>\n",
       "      <td>9.000000</td>\n",
       "      <td>4.000000</td>\n",
       "      <td>5.000000</td>\n",
       "      <td>6.000000</td>\n",
       "      <td>9.000000</td>\n",
       "      <td>8.000000</td>\n",
       "      <td>7.000000</td>\n",
       "      <td>5.000000</td>\n",
       "    </tr>\n",
       "    <tr>\n",
       "      <th>75%</th>\n",
       "      <td>6.000000</td>\n",
       "      <td>11.000000</td>\n",
       "      <td>5.000000</td>\n",
       "      <td>7.000000</td>\n",
       "      <td>8.000000</td>\n",
       "      <td>11.000000</td>\n",
       "      <td>11.000000</td>\n",
       "      <td>9.000000</td>\n",
       "      <td>7.000000</td>\n",
       "    </tr>\n",
       "    <tr>\n",
       "      <th>max</th>\n",
       "      <td>1000.000000</td>\n",
       "      <td>14.000000</td>\n",
       "      <td>6.000000</td>\n",
       "      <td>9.000000</td>\n",
       "      <td>12.000000</td>\n",
       "      <td>16.000000</td>\n",
       "      <td>15.000000</td>\n",
       "      <td>13.000000</td>\n",
       "      <td>10.000000</td>\n",
       "    </tr>\n",
       "  </tbody>\n",
       "</table>\n",
       "</div>"
      ],
      "text/plain": [
       "       Meditation_Week  Sleep_Hours  Sufficient_Income  Excercise_Week  \\\n",
       "count      1000.000000  1000.000000        1000.000000     1000.000000   \n",
       "mean          4.936000     9.332000           3.685000        5.277000   \n",
       "std          31.561908     2.288889           1.312058        2.090608   \n",
       "min           1.000000     5.000000           1.000000        1.000000   \n",
       "25%           2.000000     8.000000           3.000000        4.000000   \n",
       "50%           4.000000     9.000000           4.000000        5.000000   \n",
       "75%           6.000000    11.000000           5.000000        7.000000   \n",
       "max        1000.000000    14.000000           6.000000        9.000000   \n",
       "\n",
       "       Close_Friends  Vegetable_Week  Fruits_Week  Passions_enjoyed  \\\n",
       "count    1000.000000     1000.000000  1000.000000       1000.000000   \n",
       "mean        6.389000        8.578000     8.146000          7.070000   \n",
       "std         2.416924        3.498307     3.354391          2.646149   \n",
       "min         1.000000        1.000000     1.000000          1.000000   \n",
       "25%         5.000000        6.000000     6.000000          5.000000   \n",
       "50%         6.000000        9.000000     8.000000          7.000000   \n",
       "75%         8.000000       11.000000    11.000000          9.000000   \n",
       "max        12.000000       16.000000    15.000000         13.000000   \n",
       "\n",
       "       Vacation_taken  \n",
       "count     1000.000000  \n",
       "mean         5.380000  \n",
       "std          2.190525  \n",
       "min          1.000000  \n",
       "25%          4.000000  \n",
       "50%          5.000000  \n",
       "75%          7.000000  \n",
       "max         10.000000  "
      ]
     },
     "execution_count": 19,
     "metadata": {},
     "output_type": "execute_result"
    }
   ],
   "source": [
    "data.describe()"
   ]
  },
  {
   "cell_type": "code",
   "execution_count": 20,
   "metadata": {},
   "outputs": [
    {
     "data": {
      "text/html": [
       "<div>\n",
       "<style scoped>\n",
       "    .dataframe tbody tr th:only-of-type {\n",
       "        vertical-align: middle;\n",
       "    }\n",
       "\n",
       "    .dataframe tbody tr th {\n",
       "        vertical-align: top;\n",
       "    }\n",
       "\n",
       "    .dataframe thead th {\n",
       "        text-align: right;\n",
       "    }\n",
       "</style>\n",
       "<table border=\"1\" class=\"dataframe\">\n",
       "  <thead>\n",
       "    <tr style=\"text-align: right;\">\n",
       "      <th></th>\n",
       "      <th>Meditation_Week</th>\n",
       "      <th>Donation_Category</th>\n",
       "      <th>Sleep_Hours</th>\n",
       "      <th>Sufficient_Income</th>\n",
       "      <th>BMI_Satisfaction</th>\n",
       "      <th>Excercise_Week</th>\n",
       "      <th>Close_Friends</th>\n",
       "      <th>Vegetable_Week</th>\n",
       "      <th>Fruits_Week</th>\n",
       "      <th>Passions_enjoyed</th>\n",
       "      <th>Vacation_taken</th>\n",
       "    </tr>\n",
       "  </thead>\n",
       "  <tbody>\n",
       "    <tr>\n",
       "      <th>764</th>\n",
       "      <td>1000</td>\n",
       "      <td>&gt; $1000</td>\n",
       "      <td>5</td>\n",
       "      <td>3</td>\n",
       "      <td>Neutral</td>\n",
       "      <td>7</td>\n",
       "      <td>3</td>\n",
       "      <td>9</td>\n",
       "      <td>7</td>\n",
       "      <td>3</td>\n",
       "      <td>2</td>\n",
       "    </tr>\n",
       "  </tbody>\n",
       "</table>\n",
       "</div>"
      ],
      "text/plain": [
       "     Meditation_Week Donation_Category  Sleep_Hours  Sufficient_Income  \\\n",
       "764             1000           > $1000            5                  3   \n",
       "\n",
       "    BMI_Satisfaction  Excercise_Week  Close_Friends  Vegetable_Week  \\\n",
       "764          Neutral               7              3               9   \n",
       "\n",
       "     Fruits_Week  Passions_enjoyed  Vacation_taken  \n",
       "764            7                 3               2  "
      ]
     },
     "execution_count": 20,
     "metadata": {},
     "output_type": "execute_result"
    }
   ],
   "source": [
    "\n",
    "data.query('Meditation_Week == 1000') #1000 is an outlier"
   ]
  },
  {
   "cell_type": "code",
   "execution_count": 21,
   "metadata": {},
   "outputs": [],
   "source": [
    "data.drop(764, axis = 0, inplace = True)\n"
   ]
  },
  {
   "cell_type": "code",
   "execution_count": 22,
   "metadata": {},
   "outputs": [
    {
     "data": {
      "image/png": "[encoded data removed]",
      "text/plain": [
       "<Figure size 360x360 with 1 Axes>"
      ]
     },
     "metadata": {
      "needs_background": "light"
     },
     "output_type": "display_data"
    }
   ],
   "source": [
    "#distribution improves once outlier is removed \n",
    "\n",
    "\n",
    "data['Meditation_Week'].hist(bins=7, figsize=(5,5))\n",
    "plt.show()"
   ]
  },
  {
   "cell_type": "markdown",
   "metadata": {},
   "source": [
    " ## <span style = 'color: DodgerBlue'> Data Transfromation"
   ]
  },
  {
   "cell_type": "code",
   "execution_count": 23,
   "metadata": {},
   "outputs": [],
   "source": [
    "ordinal_features = ['BMI_Satisfaction', 'Donation_Category']\n",
    "numerical_features = ['Sleep_Hours', 'Excercise_Week', 'Close_Friends', 'Vegetable_Week', 'Fruits_Week', 'Passions_enjoyed',\n",
    "       'Vacation_taken', 'Sufficient_Income']\n"
   ]
  },
  {
   "cell_type": "code",
   "execution_count": 24,
   "metadata": {},
   "outputs": [],
   "source": [
    "from sklearn.pipeline import Pipeline\n",
    "from sklearn.preprocessing import OrdinalEncoder\n",
    "from sklearn.preprocessing import StandardScaler\n",
    "from sklearn.compose import ColumnTransformer\n",
    "\n",
    "\n",
    "numeric_transformer = Pipeline(steps=[\n",
    "    ('scaler', StandardScaler())\n",
    "])\n",
    "\n",
    "bmi = ['Unsatisfied', 'Neutral', 'Satisfied' ]\n",
    "donation = ['< $200', '$201-$999', '> $1000']\n",
    "\n",
    "\n",
    "\n",
    "categorical_transfromer = Pipeline(steps =[\n",
    "    ('ordinal', OrdinalEncoder(categories= [bmi, donation]))\n",
    "])\n",
    "\n",
    "preprocessor = ColumnTransformer( transformers=[\n",
    "    ('numeric_transformer_label', numeric_transformer, numerical_features),\n",
    "    ('categorical_transformer_label', categorical_transfromer, ordinal_features)\n",
    "])"
   ]
  },
  {
   "cell_type": "code",
   "execution_count": 25,
   "metadata": {},
   "outputs": [],
   "source": [
    "\n",
    "\n",
    "from sklearn.model_selection import GridSearchCV\n",
    "from sklearn.model_selection import train_test_split\n",
    "\n",
    "X = data.drop('Meditation_Week', axis = 1)\n",
    "y = data['Meditation_Week']\n",
    "\n",
    "\n",
    "X_train, X_test, y_train, y_test = train_test_split(X, y, test_size =.2, random_state = 0)\n",
    "\n"
   ]
  },
  {
   "cell_type": "markdown",
   "metadata": {},
   "source": [
    " ## <span style = 'color: DodgerBlue'> Models"
   ]
  },
  {
   "cell_type": "code",
   "execution_count": 26,
   "metadata": {},
   "outputs": [
    {
     "data": {
      "text/plain": [
       "0.8827088939865488"
      ]
     },
     "execution_count": 26,
     "metadata": {},
     "output_type": "execute_result"
    }
   ],
   "source": [
    "from sklearn.linear_model import Ridge\n",
    "\n",
    "\n",
    "paramaters = ({ 'ridge__alpha': [.01, 1, 2], 'ridge__fit_intercept': [True, False], 'ridge__max_iter' : [None, 1000, 1500]}) \n",
    "\n",
    "ridge_pipe = Pipeline (steps=[\n",
    "    ('preprocessor_label', preprocessor),\n",
    "    ('ridge', Ridge( random_state=0))\n",
    " ])\n",
    "\n",
    "\n",
    "ridge_gs = GridSearchCV(ridge_pipe,  param_grid = paramaters, cv = 5  )\n",
    "ridge_gs.fit(X_train, y_train).score(X_test, y_test)\n"
   ]
  },
  {
   "cell_type": "code",
   "execution_count": 27,
   "metadata": {},
   "outputs": [
    {
     "data": {
      "text/plain": [
       "0.6958928630327635"
      ]
     },
     "execution_count": 27,
     "metadata": {},
     "output_type": "execute_result"
    }
   ],
   "source": [
    "from sklearn.linear_model import ElasticNet\n",
    "\n",
    "paramaters =  {'elastic__fit_intercept':[True, False], 'elastic__max_iter': [500, 1000, 1500, 2000] }\n",
    "\n",
    "elastic_pipe = Pipeline([\n",
    "    ('preprocessor_label', preprocessor),\n",
    "    ('elastic', ElasticNet()),\n",
    "])\n",
    "\n",
    "elastic_gs = GridSearchCV(elastic_pipe,  param_grid = paramaters, cv = 5 )\n",
    "elastic_gs.fit(X_train, y_train).score(X_test, y_test)\n",
    "\n"
   ]
  },
  {
   "cell_type": "code",
   "execution_count": 28,
   "metadata": {},
   "outputs": [
    {
     "data": {
      "text/plain": [
       "0.8827061981354773"
      ]
     },
     "execution_count": 28,
     "metadata": {},
     "output_type": "execute_result"
    }
   ],
   "source": [
    "from sklearn.linear_model import LinearRegression\n",
    "\n",
    "paramaters = {'linear__fit_intercept': [True, False]}\n",
    "\n",
    "linear_pipe = Pipeline([\n",
    "    ('preprocessor_label', preprocessor),\n",
    "    ('linear', LinearRegression())\n",
    "])\n",
    "\n",
    "linear_gs = GridSearchCV(linear_pipe, param_grid = paramaters, cv= 5)\n",
    "linear_gs.fit(X_train, y_train).score(X_test, y_test)\n"
   ]
  },
  {
   "cell_type": "code",
   "execution_count": 29,
   "metadata": {},
   "outputs": [
    {
     "data": {
      "text/plain": [
       "0.9073752498351922"
      ]
     },
     "execution_count": 29,
     "metadata": {},
     "output_type": "execute_result"
    }
   ],
   "source": [
    "from sklearn.ensemble import ExtraTreesRegressor\n",
    "\n",
    "paramaters = { 'extra__n_estimators' : [500, 1000, 1500, 2000, 2500], 'extra__max_depth' : [ 10, 20, 30], 'extra__min_samples_leaf': [1, 3, 5]  }\n",
    "\n",
    "extra_pipe = Pipeline([\n",
    "    ('preprocessor_label', preprocessor),\n",
    "    ('extra', ExtraTreesRegressor(random_state=0))\n",
    "])\n",
    "\n",
    "\n",
    "\n",
    "extra_gs = GridSearchCV(extra_pipe, param_grid = paramaters, cv = 5)\n",
    "extra_gs.fit(X_train, y_train).score(X_test, y_test)"
   ]
  },
  {
   "cell_type": "code",
   "execution_count": 30,
   "metadata": {},
   "outputs": [
    {
     "name": "stdout",
     "output_type": "stream",
     "text": [
      "{'extra__max_depth': 30, 'extra__min_samples_leaf': 1, 'extra__n_estimators': 2500}\n",
      "{'linear__fit_intercept': True}\n",
      "{'elastic__fit_intercept': True, 'elastic__max_iter': 500}\n",
      "{'ridge__alpha': 2, 'ridge__fit_intercept': True, 'ridge__max_iter': None}\n"
     ]
    }
   ],
   "source": [
    "\n",
    "print(extra_gs.best_params_)\n",
    "print(linear_gs.best_params_)\n",
    "print(elastic_gs.best_params_)\n",
    "print(ridge_gs.best_params_)"
   ]
  },
  {
   "cell_type": "code",
   "execution_count": 31,
   "metadata": {},
   "outputs": [
    {
     "data": {
      "text/plain": [
       "0.9116533014267949"
      ]
     },
     "execution_count": 31,
     "metadata": {},
     "output_type": "execute_result"
    }
   ],
   "source": [
    "from sklearn.ensemble import StackingRegressor\n",
    "\n",
    "estimators = [\n",
    "    ('extra' , ExtraTreesRegressor(max_depth =30, min_samples_leaf= 1, n_estimators = 2500,  random_state=0)),\n",
    "    ('linear', LinearRegression(fit_intercept = True) ),\n",
    "]\n",
    "\n",
    "stacking_models = Pipeline(steps = [\n",
    "    ('preprocessor_label', preprocessor),\n",
    "    ('stacking' , StackingRegressor(estimators = estimators,\n",
    "    final_estimator = Ridge( alpha = 2, fit_intercept = True, max_iter = None,  random_state=0))\n",
    ")])\n",
    "\n",
    "stacking_models.fit(X_train, y_train).score(X_test, y_test)"
   ]
  },
  {
   "cell_type": "markdown",
   "metadata": {},
   "source": [
    "Stacking regressor had the highest R2 score at .92"
   ]
  },
  {
   "cell_type": "markdown",
   "metadata": {},
   "source": [
    " ## <span style = 'color: DodgerBlue'> Visualize"
   ]
  },
  {
   "cell_type": "code",
   "execution_count": 32,
   "metadata": {},
   "outputs": [],
   "source": [
    "from sklearn.inspection import permutation_importance\n",
    "\n",
    "results = permutation_importance(stacking_models, X_test ,y_test, n_repeats=10,  random_state=0, scoring = 'r2')"
   ]
  },
  {
   "cell_type": "code",
   "execution_count": 33,
   "metadata": {},
   "outputs": [],
   "source": [
    "beta =pd.DataFrame({'features': X.columns, 'importance': results.importances_mean})\n",
    "beta = beta.sort_values('importance', ascending= False )"
   ]
  },
  {
   "cell_type": "code",
   "execution_count": 34,
   "metadata": {},
   "outputs": [
    {
     "data": {
      "text/plain": [
       "<AxesSubplot:xlabel='importance', ylabel='features'>"
      ]
     },
     "execution_count": 34,
     "metadata": {},
     "output_type": "execute_result"
    },
    {
     "data": {
      "image/png": "[encoded data removed]",
      "text/plain": [
       "<Figure size 720x720 with 1 Axes>"
      ]
     },
     "metadata": {
      "needs_background": "light"
     },
     "output_type": "display_data"
    }
   ],
   "source": [
    "import matplotlib.pyplot as plt\n",
    "import seaborn as sns\n",
    "\n",
    "\n",
    "plt.figure(figsize= (10, 10))\n",
    "sns.barplot(y = 'features', x = 'importance', data =beta)"
   ]
  },
  {
   "cell_type": "markdown",
   "metadata": {},
   "source": [
    "<u>Conclusion</u> Using a stacking regressor composed of ExtraTrees, Linear and Ridge  Regression models I was able to predict  the frequency of meditation with an R2 score of .92.  Vacation_taken, Sufficent_income and Passions_enjoyed were the most important predictors. "
   ]
  }
 ],
 "metadata": {
  "interpreter": {
   "hash": "d858101e33de2a9c6536c0a27b196b9ad2dcb009ff306a0555a657bc4d981d7a"
  },
  "kernelspec": {
   "display_name": "Python 3 (ipykernel)",
   "language": "python",
   "name": "python3"
  },
  "language_info": {
   "codemirror_mode": {
    "name": "ipython",
    "version": 3
   },
   "file_extension": ".py",
   "mimetype": "text/x-python",
   "name": "python",
   "nbconvert_exporter": "python",
   "pygments_lexer": "ipython3",
   "version": "3.9.7"
  }
 },
 "nbformat": 4,
 "nbformat_minor": 4
}
