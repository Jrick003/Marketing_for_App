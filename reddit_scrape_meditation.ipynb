{
 "cells": [
  {
   "cell_type": "code",
   "execution_count": 1,
   "metadata": {},
   "outputs": [],
   "source": [
    "import numpy as np\n",
    "import praw\n",
    "import matplotlib.pyplot as plt\n",
    "import matplotlib\n",
    "import pandas as pd\n",
    "import squarify"
   ]
  },
  {
   "cell_type": "markdown",
   "metadata": {},
   "source": [
    " ## <span style = 'color: DodgerBlue'> Data Scraping"
   ]
  },
  {
   "cell_type": "code",
   "execution_count": 2,
   "metadata": {},
   "outputs": [],
   "source": [
    "reddit = praw.Reddit(client_id = '3yn7f_MjYG0teA-TrLMHAg', client_secret = 'jrSE5-J3tx5hGK0yAGhjSuun-JvI2Q', user_agent = 'practice')"
   ]
  },
  {
   "cell_type": "code",
   "execution_count": 3,
   "metadata": {},
   "outputs": [
    {
     "data": {
      "text/html": [
       "<div>\n",
       "<style scoped>\n",
       "    .dataframe tbody tr th:only-of-type {\n",
       "        vertical-align: middle;\n",
       "    }\n",
       "\n",
       "    .dataframe tbody tr th {\n",
       "        vertical-align: top;\n",
       "    }\n",
       "\n",
       "    .dataframe thead th {\n",
       "        text-align: right;\n",
       "    }\n",
       "</style>\n",
       "<table border=\"1\" class=\"dataframe\">\n",
       "  <thead>\n",
       "    <tr style=\"text-align: right;\">\n",
       "      <th></th>\n",
       "      <th>title</th>\n",
       "      <th>score</th>\n",
       "      <th>url</th>\n",
       "      <th>num_comments</th>\n",
       "      <th>body</th>\n",
       "    </tr>\n",
       "  </thead>\n",
       "  <tbody>\n",
       "    <tr>\n",
       "      <th>0</th>\n",
       "      <td>[Official] 2022 Raises and Bonuses Thread</td>\n",
       "      <td>97</td>\n",
       "      <td>https://www.reddit.com/r/datascience/comments/tdemhx/official_2022_raises_and_bonuses_thread/</td>\n",
       "      <td>55</td>\n",
       "      <td>Previous [salary threads](https://www.reddit.com/r/datascience/comments/re46xx/official_2021_end_of_year_salary_sharing_thread/) have focused on current compensation, but with inflation on the rise, we feel it would be interesting to share what kinds of **merit increases, cost of living adjustments, annual bonuses and retention bonuses** you are receiving as well.\\n\\nFor a suggested format, we can use:\\n\\n* **Base Salary Increase**\\n   * Cost of Living\\n   * Merit\\n* **Bonus**\\n   * Annual Bonus\\n   * Special Retention Bonus\\n\\nAdditional, feel free to provide standard salary thread details like:\\n\\n* **Title:**\\n* **Tenure length:**\\n* **Location:**\\n   * Remote (Yes/No):\\n* **Company/Industry:**\\n* **Education:**\\n\\n**MODNOTE**: Please **avoid political discussions related to inflation**; that is not the purpose of this thread and there are more appropriate subreddits for that.</td>\n",
       "    </tr>\n",
       "    <tr>\n",
       "      <th>1</th>\n",
       "      <td>Weekly Entering &amp; Transitioning Thread | 12 Jun 2022 - 19 Jun 2022</td>\n",
       "      <td>10</td>\n",
       "      <td>https://www.reddit.com/r/datascience/comments/vakh7y/weekly_entering_transitioning_thread_12_jun_2022/</td>\n",
       "      <td>12</td>\n",
       "      <td>Welcome to this week's entering &amp; transitioning thread! This thread is for any questions about getting started, studying, or transitioning into the data science field. Topics include:\\n\\n* Learning resources (e.g. books, tutorials, videos)\\n* Traditional education (e.g. schools, degrees, electives)\\n* Alternative education (e.g. online courses, bootcamps)\\n* Job search questions (e.g. resumes, applying, career prospects)\\n* Elementary questions (e.g. where to start, what next)\\n\\nWhile you wait for answers from the community, check out the [FAQ](https://www.reddit.com/r/datascience/wiki/frequently-asked-questions) and [Resources](Resources) pages on our wiki. You can also search for answers in [past weekly threads](https://www.reddit.com/r/datascience/search?q=weekly%20thread&amp;restrict_sr=1&amp;sort=new).</td>\n",
       "    </tr>\n",
       "    <tr>\n",
       "      <th>2</th>\n",
       "      <td>This guy is donating up to $50,000 for data science scholarships for girls! $1 for every like on the post. Super cool idea.</td>\n",
       "      <td>162</td>\n",
       "      <td>https://www.linkedin.com/posts/andrew-jones-dsi_datascience-data-scholarships-activity-6939941738983645184-sbpd/</td>\n",
       "      <td>18</td>\n",
       "      <td></td>\n",
       "    </tr>\n",
       "    <tr>\n",
       "      <th>3</th>\n",
       "      <td>Every Medium Article Ever Written (#3 will shock you)</td>\n",
       "      <td>19</td>\n",
       "      <td>https://www.reddit.com/r/datascience/comments/vazit6/every_medium_article_ever_written_3_will_shock_you/</td>\n",
       "      <td>14</td>\n",
       "      <td>In today's data-obsessed economy, AI is rapidly taking over every industry: from agriculture to zoos. As a result, data science is a rapidly growing field of career-changers, Bootcamp graduates, PhDs, and the self-taught. But here's some little known secrets that nobody else has probably ever told you:\\n\\n1. Data Science jobs arent just Kaggle competitions in a office. \\n2. Data isn't always clean. \\n3. Data Scientists need to show how their models make business' money. \\n\\nRight? I was shocked to discover as a young data scientist in fall 2020 that businesses are primarily focused on making money. Before that ground-breaking shift in my worldview I thought data wrangling was \"SELECT * FROM table\". \\n\\nAnyway use XGBoost to solve every problem.</td>\n",
       "    </tr>\n",
       "    <tr>\n",
       "      <th>4</th>\n",
       "      <td>is Google Colab Used in Industry?</td>\n",
       "      <td>146</td>\n",
       "      <td>https://www.reddit.com/r/datascience/comments/vaknd9/is_google_colab_used_in_industry/</td>\n",
       "      <td>69</td>\n",
       "      <td></td>\n",
       "    </tr>\n",
       "  </tbody>\n",
       "</table>\n",
       "</div>"
      ],
      "text/plain": [
       "                                                                                                                         title  \\\n",
       "0                                                                                    [Official] 2022 Raises and Bonuses Thread   \n",
       "1                                                           Weekly Entering & Transitioning Thread | 12 Jun 2022 - 19 Jun 2022   \n",
       "2  This guy is donating up to $50,000 for data science scholarships for girls! $1 for every like on the post. Super cool idea.   \n",
       "3                                                                        Every Medium Article Ever Written (#3 will shock you)   \n",
       "4                                                                                            is Google Colab Used in Industry?   \n",
       "\n",
       "   score  \\\n",
       "0     97   \n",
       "1     10   \n",
       "2    162   \n",
       "3     19   \n",
       "4    146   \n",
       "\n",
       "                                                                                                                url  \\\n",
       "0                     https://www.reddit.com/r/datascience/comments/tdemhx/official_2022_raises_and_bonuses_thread/   \n",
       "1            https://www.reddit.com/r/datascience/comments/vakh7y/weekly_entering_transitioning_thread_12_jun_2022/   \n",
       "2  https://www.linkedin.com/posts/andrew-jones-dsi_datascience-data-scholarships-activity-6939941738983645184-sbpd/   \n",
       "3          https://www.reddit.com/r/datascience/comments/vazit6/every_medium_article_ever_written_3_will_shock_you/   \n",
       "4                            https://www.reddit.com/r/datascience/comments/vaknd9/is_google_colab_used_in_industry/   \n",
       "\n",
       "   num_comments  \\\n",
       "0            55   \n",
       "1            12   \n",
       "2            18   \n",
       "3            14   \n",
       "4            69   \n",
       "\n",
       "                                                                                                                                                                                                                                                                                                                                                                                                                                                                                                                                                                                                                                                                                                                                                                                                                                                                                                                           body  \n",
       "0  Previous [salary threads](https://www.reddit.com/r/datascience/comments/re46xx/official_2021_end_of_year_salary_sharing_thread/) have focused on current compensation, but with inflation on the rise, we feel it would be interesting to share what kinds of **merit increases, cost of living adjustments, annual bonuses and retention bonuses** you are receiving as well.\\n\\nFor a suggested format, we can use:\\n\\n* **Base Salary Increase**\\n   * Cost of Living\\n   * Merit\\n* **Bonus**\\n   * Annual Bonus\\n   * Special Retention Bonus\\n\\nAdditional, feel free to provide standard salary thread details like:\\n\\n* **Title:**\\n* **Tenure length:**\\n* **Location:**\\n   * Remote (Yes/No):\\n* **Company/Industry:**\\n* **Education:**\\n\\n**MODNOTE**: Please **avoid political discussions related to inflation**; that is not the purpose of this thread and there are more appropriate subreddits for that.  \n",
       "1                                                                                   Welcome to this week's entering & transitioning thread! This thread is for any questions about getting started, studying, or transitioning into the data science field. Topics include:\\n\\n* Learning resources (e.g. books, tutorials, videos)\\n* Traditional education (e.g. schools, degrees, electives)\\n* Alternative education (e.g. online courses, bootcamps)\\n* Job search questions (e.g. resumes, applying, career prospects)\\n* Elementary questions (e.g. where to start, what next)\\n\\nWhile you wait for answers from the community, check out the [FAQ](https://www.reddit.com/r/datascience/wiki/frequently-asked-questions) and [Resources](Resources) pages on our wiki. You can also search for answers in [past weekly threads](https://www.reddit.com/r/datascience/search?q=weekly%20thread&restrict_sr=1&sort=new).  \n",
       "2                                                                                                                                                                                                                                                                                                                                                                                                                                                                                                                                                                                                                                                                                                                                                                                                                                                                                                                                \n",
       "3                                                                                                                                            In today's data-obsessed economy, AI is rapidly taking over every industry: from agriculture to zoos. As a result, data science is a rapidly growing field of career-changers, Bootcamp graduates, PhDs, and the self-taught. But here's some little known secrets that nobody else has probably ever told you:\\n\\n1. Data Science jobs arent just Kaggle competitions in a office. \\n2. Data isn't always clean. \\n3. Data Scientists need to show how their models make business' money. \\n\\nRight? I was shocked to discover as a young data scientist in fall 2020 that businesses are primarily focused on making money. Before that ground-breaking shift in my worldview I thought data wrangling was \"SELECT * FROM table\". \\n\\nAnyway use XGBoost to solve every problem.  \n",
       "4                                                                                                                                                                                                                                                                                                                                                                                                                                                                                                                                                                                                                                                                                                                                                                                                                                                                                                                                "
      ]
     },
     "execution_count": 3,
     "metadata": {},
     "output_type": "execute_result"
    }
   ],
   "source": [
    "\n",
    "pd.set_option('max_colwidth', None)\n",
    "df= []\n",
    "subreddit = reddit.subreddit('datascience')\n",
    "\n",
    "for post in subreddit.hot(limit = 1000):\n",
    "    df.append([post.title, post.score, post.url, post.num_comments, post.selftext]) \n",
    "\n",
    "df = pd.DataFrame(df, columns = ['title', 'score', 'url', 'num_comments', 'body'])\n",
    "df.head()"
   ]
  },
  {
   "cell_type": "code",
   "execution_count": 4,
   "metadata": {},
   "outputs": [],
   "source": [
    "\n",
    "benefits = ('stress', 'anxiety', 'awarness', 'attention', 'memory', 'kindness', 'addiction', 'sleep', 'pain', 'focus', 'creativity', 'patience')\n",
    "\n",
    "\n",
    "results = []\n",
    "for i in benefits:\n",
    "    results.append(df['body'].str.count(i).sum())\n",
    " \n"
   ]
  },
  {
   "cell_type": "code",
   "execution_count": 5,
   "metadata": {},
   "outputs": [
    {
     "data": {
      "text/html": [
       "<div>\n",
       "<style scoped>\n",
       "    .dataframe tbody tr th:only-of-type {\n",
       "        vertical-align: middle;\n",
       "    }\n",
       "\n",
       "    .dataframe tbody tr th {\n",
       "        vertical-align: top;\n",
       "    }\n",
       "\n",
       "    .dataframe thead th {\n",
       "        text-align: right;\n",
       "    }\n",
       "</style>\n",
       "<table border=\"1\" class=\"dataframe\">\n",
       "  <thead>\n",
       "    <tr style=\"text-align: right;\">\n",
       "      <th></th>\n",
       "      <th>Benefits</th>\n",
       "      <th>Count</th>\n",
       "    </tr>\n",
       "  </thead>\n",
       "  <tbody>\n",
       "    <tr>\n",
       "      <th>0</th>\n",
       "      <td>stress</td>\n",
       "      <td>8</td>\n",
       "    </tr>\n",
       "    <tr>\n",
       "      <th>1</th>\n",
       "      <td>anxiety</td>\n",
       "      <td>3</td>\n",
       "    </tr>\n",
       "    <tr>\n",
       "      <th>2</th>\n",
       "      <td>awarness</td>\n",
       "      <td>0</td>\n",
       "    </tr>\n",
       "    <tr>\n",
       "      <th>3</th>\n",
       "      <td>attention</td>\n",
       "      <td>2</td>\n",
       "    </tr>\n",
       "    <tr>\n",
       "      <th>4</th>\n",
       "      <td>memory</td>\n",
       "      <td>5</td>\n",
       "    </tr>\n",
       "    <tr>\n",
       "      <th>5</th>\n",
       "      <td>kindness</td>\n",
       "      <td>0</td>\n",
       "    </tr>\n",
       "    <tr>\n",
       "      <th>6</th>\n",
       "      <td>addiction</td>\n",
       "      <td>0</td>\n",
       "    </tr>\n",
       "    <tr>\n",
       "      <th>7</th>\n",
       "      <td>sleep</td>\n",
       "      <td>2</td>\n",
       "    </tr>\n",
       "    <tr>\n",
       "      <th>8</th>\n",
       "      <td>pain</td>\n",
       "      <td>21</td>\n",
       "    </tr>\n",
       "    <tr>\n",
       "      <th>9</th>\n",
       "      <td>focus</td>\n",
       "      <td>61</td>\n",
       "    </tr>\n",
       "    <tr>\n",
       "      <th>10</th>\n",
       "      <td>creativity</td>\n",
       "      <td>1</td>\n",
       "    </tr>\n",
       "    <tr>\n",
       "      <th>11</th>\n",
       "      <td>patience</td>\n",
       "      <td>0</td>\n",
       "    </tr>\n",
       "  </tbody>\n",
       "</table>\n",
       "</div>"
      ],
      "text/plain": [
       "      Benefits  Count\n",
       "0       stress      8\n",
       "1      anxiety      3\n",
       "2     awarness      0\n",
       "3    attention      2\n",
       "4       memory      5\n",
       "5     kindness      0\n",
       "6    addiction      0\n",
       "7        sleep      2\n",
       "8         pain     21\n",
       "9        focus     61\n",
       "10  creativity      1\n",
       "11    patience      0"
      ]
     },
     "execution_count": 5,
     "metadata": {},
     "output_type": "execute_result"
    }
   ],
   "source": [
    "benefits_count = pd.DataFrame({'Benefits': benefits, 'Count': results})\n",
    "benefits_count"
   ]
  },
  {
   "cell_type": "code",
   "execution_count": 6,
   "metadata": {},
   "outputs": [
    {
     "data": {
      "text/html": [
       "<div>\n",
       "<style scoped>\n",
       "    .dataframe tbody tr th:only-of-type {\n",
       "        vertical-align: middle;\n",
       "    }\n",
       "\n",
       "    .dataframe tbody tr th {\n",
       "        vertical-align: top;\n",
       "    }\n",
       "\n",
       "    .dataframe thead th {\n",
       "        text-align: right;\n",
       "    }\n",
       "</style>\n",
       "<table border=\"1\" class=\"dataframe\">\n",
       "  <thead>\n",
       "    <tr style=\"text-align: right;\">\n",
       "      <th></th>\n",
       "      <th>Benefits</th>\n",
       "      <th>Count</th>\n",
       "    </tr>\n",
       "  </thead>\n",
       "  <tbody>\n",
       "    <tr>\n",
       "      <th>0</th>\n",
       "      <td>stress</td>\n",
       "      <td>8</td>\n",
       "    </tr>\n",
       "    <tr>\n",
       "      <th>1</th>\n",
       "      <td>anxiety</td>\n",
       "      <td>3</td>\n",
       "    </tr>\n",
       "    <tr>\n",
       "      <th>3</th>\n",
       "      <td>attention</td>\n",
       "      <td>2</td>\n",
       "    </tr>\n",
       "    <tr>\n",
       "      <th>4</th>\n",
       "      <td>memory</td>\n",
       "      <td>5</td>\n",
       "    </tr>\n",
       "    <tr>\n",
       "      <th>7</th>\n",
       "      <td>sleep</td>\n",
       "      <td>2</td>\n",
       "    </tr>\n",
       "    <tr>\n",
       "      <th>8</th>\n",
       "      <td>pain</td>\n",
       "      <td>21</td>\n",
       "    </tr>\n",
       "    <tr>\n",
       "      <th>9</th>\n",
       "      <td>focus</td>\n",
       "      <td>61</td>\n",
       "    </tr>\n",
       "    <tr>\n",
       "      <th>10</th>\n",
       "      <td>creativity</td>\n",
       "      <td>1</td>\n",
       "    </tr>\n",
       "  </tbody>\n",
       "</table>\n",
       "</div>"
      ],
      "text/plain": [
       "      Benefits  Count\n",
       "0       stress      8\n",
       "1      anxiety      3\n",
       "3    attention      2\n",
       "4       memory      5\n",
       "7        sleep      2\n",
       "8         pain     21\n",
       "9        focus     61\n",
       "10  creativity      1"
      ]
     },
     "execution_count": 6,
     "metadata": {},
     "output_type": "execute_result"
    }
   ],
   "source": [
    "benifits_nonzero = benefits_count[benefits_count['Count'] > 0]\n",
    "benifits_nonzero"
   ]
  },
  {
   "cell_type": "markdown",
   "metadata": {},
   "source": [
    " ## <span style = 'color: DodgerBlue'> Visualize"
   ]
  },
  {
   "cell_type": "code",
   "execution_count": 10,
   "metadata": {},
   "outputs": [
    {
     "data": {
      "image/png": "[encoded data removed]",
      "text/plain": [
       "<Figure size 720x720 with 1 Axes>"
      ]
     },
     "metadata": {
      "needs_background": "light"
     },
     "output_type": "display_data"
    },
    {
     "data": {
      "text/plain": [
       "<Figure size 432x288 with 0 Axes>"
      ]
     },
     "metadata": {},
     "output_type": "display_data"
    }
   ],
   "source": [
    "\n",
    "cmap = matplotlib.cm.Paired\n",
    "colors = []\n",
    "for i in range(len(benifits_nonzero['Benefits'])):\n",
    "    colors.append(cmap(i))\n",
    "\n",
    "plt.figure(figsize = (10, 10))\n",
    "squarify.plot(sizes= benifits_nonzero['Count'],\n",
    "              label=  (benifits_nonzero['Benefits']),\n",
    "              color= colors,\n",
    "              text_kwargs={'fontsize': 12})\n",
    "\n",
    "plt.title('Discussed Benefits of Meditation', fontsize=28)\n",
    "plt.axis('off')\n",
    "plt.show()\n"
   ]
  }
 ],
 "metadata": {
  "interpreter": {
   "hash": "d858101e33de2a9c6536c0a27b196b9ad2dcb009ff306a0555a657bc4d981d7a"
  },
  "kernelspec": {
   "display_name": "Python 3 (ipykernel)",
   "language": "python",
   "name": "python3"
  },
  "language_info": {
   "codemirror_mode": {
    "name": "ipython",
    "version": 3
   },
   "file_extension": ".py",
   "mimetype": "text/x-python",
   "name": "python",
   "nbconvert_exporter": "python",
   "pygments_lexer": "ipython3",
   "version": "3.9.7"
  }
 },
 "nbformat": 4,
 "nbformat_minor": 2
}
